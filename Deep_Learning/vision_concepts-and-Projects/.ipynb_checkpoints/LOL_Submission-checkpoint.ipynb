{
 "cells": [
  {
   "cell_type": "code",
   "execution_count": 12,
   "metadata": {},
   "outputs": [],
   "source": [
    "import pandas as pd\n",
    "import numpy as np"
   ]
  },
  {
   "cell_type": "code",
   "execution_count": 13,
   "metadata": {},
   "outputs": [],
   "source": [
    "P1 = pd.read_csv('Prediction_1.csv')\n",
    "P2 = pd.read_csv('Prediction_2.csv')\n",
    "P3 = pd.read_csv('Prediction_3.csv')\n",
    "P4 = pd.read_csv('Prediction_4.csv')\n",
    "P5 = pd.read_csv('Prediction_5.csv')\n",
    "Final = pd.read_csv('Final.csv')\n",
    "\n",
    "Final2 = pd.read_csv('Final2.csv')"
   ]
  },
  {
   "cell_type": "code",
   "execution_count": 21,
   "metadata": {},
   "outputs": [],
   "source": [
    "freq = np.zeros(P1.shape[0])\n",
    "lis = [P1,P2,P3,P4,P5,Final,Final2]\n",
    "for p in lis:\n",
    "    for i in range(0,p.shape[0]):\n",
    "        freq[i] += (p['label'][i] == True)"
   ]
  },
  {
   "cell_type": "code",
   "execution_count": 24,
   "metadata": {},
   "outputs": [
    {
     "name": "stderr",
     "output_type": "stream",
     "text": [
      "C:\\Users\\Jayanth\\anaconda3\\lib\\site-packages\\ipykernel_launcher.py:4: SettingWithCopyWarning: \n",
      "A value is trying to be set on a copy of a slice from a DataFrame\n",
      "\n",
      "See the caveats in the documentation: https://pandas.pydata.org/pandas-docs/stable/user_guide/indexing.html#returning-a-view-versus-a-copy\n",
      "  after removing the cwd from sys.path.\n"
     ]
    },
    {
     "data": {
      "text/plain": [
       "342"
      ]
     },
     "execution_count": 24,
     "metadata": {},
     "output_type": "execute_result"
    }
   ],
   "source": [
    "count = 0\n",
    "for i in range(0,Final2.shape[0]):\n",
    "    count += (freq[i]>=5)\n",
    "    Final2['label'][i] = (freq[i] >= 3)\n",
    "# count\n",
    "\n",
    "Final2.to_csv('Final2.csv',index=False)\n",
    "count"
   ]
  },
  {
   "cell_type": "code",
   "execution_count": 25,
   "metadata": {},
   "outputs": [],
   "source": [
    "def singlecounter(p1):\n",
    "    count = 0\n",
    "    for i in range(0,p1.shape[0]):\n",
    "        if p1['label'][i] == True:\n",
    "            count += 1\n",
    "    return count\n",
    "\n",
    "def counter(p1,p2):\n",
    "    count = 0\n",
    "    for i in range(0,p1.shape[0]):\n",
    "        if p1['label'][i] == p2['label'][i]:\n",
    "            count += 1\n",
    "    return count"
   ]
  },
  {
   "cell_type": "code",
   "execution_count": null,
   "metadata": {},
   "outputs": [],
   "source": []
  },
  {
   "cell_type": "code",
   "execution_count": null,
   "metadata": {},
   "outputs": [],
   "source": []
  },
  {
   "cell_type": "code",
   "execution_count": null,
   "metadata": {},
   "outputs": [],
   "source": []
  },
  {
   "cell_type": "code",
   "execution_count": null,
   "metadata": {},
   "outputs": [],
   "source": []
  },
  {
   "cell_type": "code",
   "execution_count": null,
   "metadata": {},
   "outputs": [],
   "source": []
  },
  {
   "cell_type": "code",
   "execution_count": null,
   "metadata": {},
   "outputs": [],
   "source": []
  }
 ],
 "metadata": {
  "kernelspec": {
   "display_name": "Python 3",
   "language": "python",
   "name": "python3"
  },
  "language_info": {
   "codemirror_mode": {
    "name": "ipython",
    "version": 3
   },
   "file_extension": ".py",
   "mimetype": "text/x-python",
   "name": "python",
   "nbconvert_exporter": "python",
   "pygments_lexer": "ipython3",
   "version": "3.7.9"
  }
 },
 "nbformat": 4,
 "nbformat_minor": 4
}
