{
 "cells": [
  {
   "cell_type": "code",
   "execution_count": 37,
   "metadata": {},
   "outputs": [],
   "source": [
    "# https://www.kaggle.com/pankajj/fashion-mnist-with-pytorch-93-accuracy\n",
    "import numpy as np\n",
    "import pandas as pd\n",
    "import matplotlib.pyplot as plt\n",
    "\n",
    "import torch\n",
    "import torch.nn as nn\n",
    "from torch.autograd import Variable\n",
    "import torch.nn.functional as F\n",
    "import torch.optim as optim\n",
    "\n",
    "import torchvision\n",
    "import torchvision.transforms as transforms\n",
    "from torch.utils.data import Dataset, DataLoader\n",
    "from sklearn.metrics import confusion_matrix"
   ]
  },
  {
   "cell_type": "code",
   "execution_count": 38,
   "metadata": {},
   "outputs": [],
   "source": [
    "from res.plot_lib import plot_data, plot_model, set_default"
   ]
  },
  {
   "cell_type": "code",
   "execution_count": 39,
   "metadata": {},
   "outputs": [],
   "source": [
    "set_default()"
   ]
  },
  {
   "cell_type": "code",
   "execution_count": 40,
   "metadata": {},
   "outputs": [],
   "source": [
    "device = torch.device(\"cuda:0\" if torch.cuda.is_available() else \"cpu\")"
   ]
  },
  {
   "cell_type": "markdown",
   "metadata": {},
   "source": [
    "### Geting Data"
   ]
  },
  {
   "cell_type": "code",
   "execution_count": 41,
   "metadata": {},
   "outputs": [],
   "source": [
    "train_set = torchvision.datasets.FashionMNIST(\"./data\", download=True, transform=\n",
    "                                                transforms.Compose([transforms.ToTensor()]))\n",
    "test_set = torchvision.datasets.FashionMNIST(\"./data\", download=True, train=False, transform=\n",
    "                                               transforms.Compose([transforms.ToTensor()]))  "
   ]
  },
  {
   "cell_type": "code",
   "execution_count": 42,
   "metadata": {},
   "outputs": [],
   "source": [
    "train_loader = torch.utils.data.DataLoader(train_set, \n",
    "                                           batch_size=100)\n",
    "test_loader = torch.utils.data.DataLoader(test_set,\n",
    "                                          batch_size=100)       "
   ]
  },
  {
   "cell_type": "code",
   "execution_count": 43,
   "metadata": {},
   "outputs": [],
   "source": [
    "# a = next(iter(train_loader))\n",
    "# plt.imshow(a[0][0][0])"
   ]
  },
  {
   "cell_type": "code",
   "execution_count": 44,
   "metadata": {},
   "outputs": [
    {
     "data": {
      "image/png": "[encoded data removed]",
      "text/plain": [
       "<Figure size 1600x600 with 10 Axes>"
      ]
     },
     "metadata": {},
     "output_type": "display_data"
    }
   ],
   "source": [
    "plt.figure(figsize=(16, 6))\n",
    "for i in range(10):\n",
    "    plt.subplot(2, 5, i + 1)\n",
    "    image, _ = train_loader.dataset.__getitem__(i)\n",
    "    plt.imshow(image.squeeze().numpy())\n",
    "    plt.axis('off');"
   ]
  },
  {
   "cell_type": "code",
   "execution_count": 45,
   "metadata": {},
   "outputs": [],
   "source": [
    "# Making a method that return the name of class for the label number. ex. if the label is 5, we return Sandal.\n",
    "def output_label(label):\n",
    "    output_mapping = {\n",
    "                 0: \"T-shirt/Top\",\n",
    "                 1: \"Trouser\",\n",
    "                 2: \"Pullover\",\n",
    "                 3: \"Dress\",\n",
    "                 4: \"Coat\", \n",
    "                 5: \"Sandal\", \n",
    "                 6: \"Shirt\",\n",
    "                 7: \"Sneaker\",\n",
    "                 8: \"Bag\",\n",
    "                 9: \"Ankle Boot\"\n",
    "                 }\n",
    "    input = (label.item() if type(label) == torch.Tensor else label)\n",
    "    return output_mapping[input]"
   ]
  },
  {
   "cell_type": "markdown",
   "metadata": {},
   "source": [
    "### Buliding CNN"
   ]
  },
  {
   "cell_type": "code",
   "execution_count": 141,
   "metadata": {},
   "outputs": [],
   "source": [
    "# class FashionCNN(nn.Module):\n",
    "    \n",
    "#     def __init__(self):\n",
    "#         super(FashionCNN, self).__init__()\n",
    "        \n",
    "#         self.layer1 = nn.Sequential(\n",
    "#             nn.Conv2d(in_channels=1, out_channels=50, kernel_size=3, padding=1)\n",
    "#         )\n",
    "        \n",
    "#         self.layer2 = nn.Sequential(\n",
    "#             nn.Conv2d(in_channels=50, out_channels=100, kernel_size=3)\n",
    "#        )\n",
    "        \n",
    "        \n",
    "#         self.fc1 = nn.Linear(in_features=100*6*6, out_features=800)\n",
    "#         self.fc2 = nn.Linear(in_features=800, out_features=400)\n",
    "#         self.fc3 = nn.Linear(in_features=400, out_features=120)\n",
    "#         self.fc4 = nn.Linear(in_features= 120, out_features=10)\n",
    "        \n",
    "#     def forward(self, x):\n",
    "#         out = self.layer1(x)\n",
    "#         out = F.relu(out)\n",
    "#         out = F.max_pool2d(out,kernel_size=2)\n",
    "#         out = self.layer2(out)\n",
    "#         out = F.relu(out)\n",
    "#         out = F.max_pool2d(out,kernel_size=2)\n",
    "#         out = out.view(out.size(0), -1)\n",
    "#         out = self.fc1(out)\n",
    "#         out = F.relu(out)\n",
    "#         out = self.fc2(out)\n",
    "#         out = F.relu(out)\n",
    "#         out = self.fc3(out)\n",
    "#         out = F.relu(out)\n",
    "#         out = self.fc4(out)\n",
    "#         out = F.log_softmax(out,dim=1)\n",
    "        \n",
    "#         return out\n",
    "    \n",
    "#     def get_images1(self, x):\n",
    "#         out = self.layer1(x)\n",
    "#         out = F.relu(out)\n",
    "#         out = F.max_pool2d(out,kernel_size=2)\n",
    "        \n",
    "#         return out\n",
    "    \n",
    "#     def get_images2(self,x):\n",
    "#         out = self.layer1(x)\n",
    "#         out = F.relu(out)\n",
    "#         out = F.max_pool2d(out,kernel_size=2)\n",
    "#         out = self.layer2(out)\n",
    "#         out = F.relu(out)\n",
    "#         out = F.max_pool2d(out,kernel_size=2)\n",
    "        \n",
    "#         return out\n",
    "\n",
    "\n",
    "\n",
    "class FashionCNN(nn.Module):\n",
    "    \n",
    "    def __init__(self):\n",
    "        super(FashionCNN, self).__init__()\n",
    "        \n",
    "        self.layer1 = nn.Sequential(\n",
    "            nn.Conv2d(in_channels=1, out_channels=25, kernel_size=5, padding=2)\n",
    "        )\n",
    "        \n",
    "        self.layer2 = nn.Sequential(\n",
    "            nn.Conv2d(in_channels=25, out_channels=50, kernel_size=3)\n",
    "       )\n",
    "        \n",
    "        \n",
    "        self.fc1 = nn.Linear(in_features=50*6*6, out_features=120)\n",
    "        self.fc2 = nn.Linear(in_features=120, out_features=84)\n",
    "        self.fc3 = nn.Linear(in_features=84, out_features=10)\n",
    "        \n",
    "    def forward(self, x):\n",
    "        out = self.layer1(x)\n",
    "        out = F.relu(out)\n",
    "        out = F.avg_pool2d(out,kernel_size=2)\n",
    "        out = self.layer2(out)\n",
    "        out = F.relu(out)\n",
    "        out = F.max_pool2d(out,kernel_size=2)\n",
    "        out = out.view(out.size(0), -1)\n",
    "        out = self.fc1(out)\n",
    "        out = F.relu(out)\n",
    "        out = self.fc2(out)\n",
    "        out = F.relu(out)\n",
    "        out = self.fc3(out)\n",
    "        out = F.log_softmax(out,dim=1)\n",
    "        \n",
    "        return out\n",
    "    \n",
    "    def get_images1(self, x):\n",
    "        out = self.layer1(x)\n",
    "        out = F.relu(out)\n",
    "        out = F.max_pool2d(out,kernel_size=2)\n",
    "        \n",
    "        return out\n",
    "    \n",
    "    def get_images2(self,x):\n",
    "        out = self.layer1(x)\n",
    "        out = F.relu(out)\n",
    "        out = F.max_pool2d(out,kernel_size=2)\n",
    "        out = self.layer2(out)\n",
    "        out = F.relu(out)\n",
    "        out = F.max_pool2d(out,kernel_size=2)\n",
    "        \n",
    "        return out"
   ]
  },
  {
   "cell_type": "code",
   "execution_count": 142,
   "metadata": {},
   "outputs": [
    {
     "name": "stdout",
     "output_type": "stream",
     "text": [
      "FashionCNN(\n",
      "  (layer1): Sequential(\n",
      "    (0): Conv2d(1, 25, kernel_size=(5, 5), stride=(1, 1), padding=(2, 2))\n",
      "  )\n",
      "  (layer2): Sequential(\n",
      "    (0): Conv2d(25, 50, kernel_size=(3, 3), stride=(1, 1))\n",
      "  )\n",
      "  (fc1): Linear(in_features=1800, out_features=120, bias=True)\n",
      "  (fc2): Linear(in_features=120, out_features=84, bias=True)\n",
      "  (fc3): Linear(in_features=84, out_features=10, bias=True)\n",
      ")\n"
     ]
    }
   ],
   "source": [
    "model = FashionCNN()\n",
    "model.to(device)\n",
    "\n",
    "error = nn.CrossEntropyLoss()\n",
    "\n",
    "learning_rate = 0.001\n",
    "optimizer = torch.optim.Adam(model.parameters(), lr=learning_rate)\n",
    "print(model)"
   ]
  },
  {
   "cell_type": "markdown",
   "metadata": {},
   "source": [
    "### Training and Testing"
   ]
  },
  {
   "cell_type": "code",
   "execution_count": null,
   "metadata": {},
   "outputs": [
    {
     "name": "stdout",
     "output_type": "stream",
     "text": [
      "Iteration: 500, Loss: 0.5438188314437866, Accuracy: 84.00999450683594%\n",
      "Iteration: 1000, Loss: 0.39745399355888367, Accuracy: 86.5999984741211%\n",
      "Iteration: 1500, Loss: 0.3406215310096741, Accuracy: 86.36000061035156%\n",
      "Iteration: 2000, Loss: 0.2525390684604645, Accuracy: 88.7699966430664%\n"
     ]
    }
   ],
   "source": [
    "num_epochs = 5\n",
    "count = 0\n",
    "# Lists for visualization of loss and accuracy \n",
    "loss_list = []\n",
    "iteration_list = []\n",
    "accuracy_list = []\n",
    "\n",
    "# Lists for knowing classwise accuracy\n",
    "predictions_list = []\n",
    "labels_list = []\n",
    "\n",
    "for epoch in range(num_epochs):\n",
    "    for images, labels in train_loader:\n",
    "        # Transfering images and labels to GPU if available\n",
    "        images, labels = images.to(device), labels.to(device)\n",
    "    \n",
    "        train = Variable(images.view(100, 1, 28, 28))\n",
    "        labels = Variable(labels)\n",
    "        \n",
    "        # Forward pass \n",
    "        outputs = model(train)\n",
    "        loss = error(outputs, labels)\n",
    "        \n",
    "        # Initializing a gradient as 0 so there is no mixing of gradient among the batches\n",
    "        optimizer.zero_grad()\n",
    "        \n",
    "        #Propagating the error backward\n",
    "        loss.backward()\n",
    "        \n",
    "        # Optimizing the parameters\n",
    "        optimizer.step()\n",
    "    \n",
    "        count += 1\n",
    "    \n",
    "    # Testing the model\n",
    "    \n",
    "        if not (count % 50):    # It's same as \"if count % 50 == 0\"\n",
    "            total = 0\n",
    "            correct = 0\n",
    "        \n",
    "            for images, labels in test_loader:\n",
    "                images, labels = images.to(device), labels.to(device)\n",
    "                labels_list.append(labels)\n",
    "            \n",
    "                test = Variable(images.view(100, 1, 28, 28))\n",
    "            \n",
    "                outputs = model(test)\n",
    "            \n",
    "                predictions = torch.max(outputs, 1)[1].to(device)\n",
    "                predictions_list.append(predictions)\n",
    "                correct += (predictions == labels).sum()\n",
    "            \n",
    "                total += len(labels)\n",
    "            \n",
    "            accuracy = correct * 100 / total\n",
    "            loss_list.append(loss.data)\n",
    "            iteration_list.append(count)\n",
    "            accuracy_list.append(accuracy)\n",
    "        \n",
    "        if not (count % 500):\n",
    "            print(\"Iteration: {}, Loss: {}, Accuracy: {}%\".format(count, loss.data, accuracy))"
   ]
  },
  {
   "cell_type": "markdown",
   "metadata": {},
   "source": [
    "### Outputs of Layer1"
   ]
  },
  {
   "cell_type": "code",
   "execution_count": null,
   "metadata": {},
   "outputs": [],
   "source": [
    "i = 0\n",
    "for images,labels in test_loader:\n",
    "    images, labels = images.to(device), labels.to(device)\n",
    "    i += 1\n",
    "    if i > 1:\n",
    "        break\n",
    "    outputs = model.get_images1(images)\n",
    "plt.figure(figsize=(16, 6))\n",
    "for i in range(6):\n",
    "    plt.subplot(2, 5, i + 1)\n",
    "#     image = outputs.__getitem__(i)\n",
    "    plt.imshow(outputs[0].cpu().data.numpy()[i])\n",
    "    plt.axis('off');"
   ]
  },
  {
   "cell_type": "code",
   "execution_count": null,
   "metadata": {},
   "outputs": [],
   "source": [
    "# outputs[0].cpu().data.numpy()"
   ]
  },
  {
   "cell_type": "markdown",
   "metadata": {},
   "source": [
    "### Outputs of Layer2"
   ]
  },
  {
   "cell_type": "code",
   "execution_count": null,
   "metadata": {},
   "outputs": [],
   "source": [
    "i = 0\n",
    "for images,labels in test_loader:\n",
    "    images, labels = images.to(device), labels.to(device)\n",
    "    i += 1\n",
    "    if i > 1:\n",
    "        break\n",
    "    outputs = model.get_images2(images)\n",
    "plt.figure(figsize=(16, 6))\n",
    "for i in range(5):\n",
    "    plt.subplot(2, 5, i + 1)\n",
    "    image = outputs.__getitem__(i)\n",
    "    plt.imshow(image[0].cpu().data.numpy())\n",
    "    plt.axis('off');"
   ]
  },
  {
   "cell_type": "code",
   "execution_count": null,
   "metadata": {},
   "outputs": [],
   "source": [
    "plt.plot(iteration_list, loss_list)\n",
    "plt.xlabel(\"No. of Iteration\")\n",
    "plt.ylabel(\"Loss\")\n",
    "plt.title(\"Iterations vs Loss\")\n",
    "plt.show()"
   ]
  },
  {
   "cell_type": "code",
   "execution_count": null,
   "metadata": {},
   "outputs": [],
   "source": [
    "plt.plot(iteration_list, accuracy_list)\n",
    "plt.xlabel(\"No. of Iteration\")\n",
    "plt.ylabel(\"Accuracy\")\n",
    "plt.title(\"Iterations vs Accuracy\")\n",
    "plt.show()\n"
   ]
  },
  {
   "cell_type": "code",
   "execution_count": null,
   "metadata": {},
   "outputs": [],
   "source": [
    "class_correct = [0. for _ in range(10)]\n",
    "total_correct = [0. for _ in range(10)]\n",
    "\n",
    "with torch.no_grad():\n",
    "    for images, labels in test_loader:\n",
    "        images, labels = images.to(device), labels.to(device)\n",
    "        test = Variable(images)\n",
    "        outputs = model(test)\n",
    "        predicted = torch.max(outputs, 1)[1]\n",
    "        c = (predicted == labels).squeeze()\n",
    "        \n",
    "        for i in range(100):\n",
    "            label = labels[i]\n",
    "            class_correct[label] += c[i].item()\n",
    "            total_correct[label] += 1\n",
    "        \n",
    "for i in range(10):\n",
    "    print(\"Accuracy of {}: {:.2f}%\".format(output_label(i), class_correct[i] * 100 / total_correct[i]))"
   ]
  },
  {
   "cell_type": "markdown",
   "metadata": {},
   "source": [
    "## Results\n",
    "\n",
    "<h> Things to Check </h>\n",
    "-  Average_Pooling vs Max_Pooling\n",
    "-  Adjusting Convolution window size\n",
    "-  Different Activation Functions\n",
    "-  Number of Output Channels\n",
    "-  Number of Convolution Layers\n",
    "-  Number of Fully Connected Layers\n",
    "-  Learning_Rates,Epochs,initilazation...."
   ]
  },
  {
   "cell_type": "markdown",
   "metadata": {},
   "source": [
    "#### Average_pooling vs Max_pooling\n",
    "\n",
    "<h> Average_Pooling Summary </h>\n",
    "- Iteration: 500, Loss: 0.6217758655548096, Accuracy: 76.48999786376953%\n",
    "- Iteration: 1000, Loss: 0.5764853954315186, Accuracy: 80.70999908447266%\n",
    "- Iteration: 1500, Loss: 0.4094935655593872, Accuracy: 82.77999877929688%\n",
    "- Iteration: 2000, Loss: 0.3952339291572571, Accuracy: 83.72999572753906%\n",
    "- Iteration: 2500, Loss: 0.36742129921913147, Accuracy: 85.50999450683594%\n",
    "- Iteration: 3000, Loss: 0.3093968629837036, Accuracy: 85.07999420166016%    \n",
    "    \n",
    "<h> Max_Pooling Summary</h>\n",
    "- Iteration: 500, Loss: 0.6079098582267761, Accuracy: 77.5999984741211%\n",
    "- Iteration: 1000, Loss: 0.5063292980194092, Accuracy: 83.45999908447266%\n",
    "- Iteration: 1500, Loss: 0.45545709133148193, Accuracy: 83.07999420166016%\n",
    "- Iteration: 2000, Loss: 0.35154134035110474, Accuracy: 86.19999694824219%\n",
    "- Iteration: 2500, Loss: 0.26442116498947144, Accuracy: 87.2699966430664%\n",
    "- Iteration: 3000, Loss: 0.2452133148908615, Accuracy: 87.91999816894531%\n",
    "    \n",
    "<h> Conclusion </h>\n",
    "\n",
    "- As name suggests Average_pooling is Soft and max_pooling is sharp.\n",
    "- I believe there is no much difference in performance and i think it is overfitting(??).\n",
    "- Need to check for more modified Model"
   ]
  },
  {
   "cell_type": "markdown",
   "metadata": {},
   "source": [
    "#### Adjusting Convolution window Size\n",
    "\n",
    "<h> $ 3\\times 3$ Summary</h>\n",
    "- Iteration: 500, Loss: 0.5865272879600525, Accuracy: 80.5199966430664%\n",
    "- Iteration: 1000, Loss: 0.44755619764328003, Accuracy: 84.18000030517578%\n",
    "- Iteration: 1500, Loss: 0.39746540784835815, Accuracy: 83.08999633789062%\n",
    "- Iteration: 2000, Loss: 0.33785074949264526, Accuracy: 86.2699966430664%\n",
    "- Iteration: 2500, Loss: 0.29281023144721985, Accuracy: 87.6199951171875%\n",
    "- Iteration: 3000, Loss: 0.23836253583431244, Accuracy: 87.58999633789062%\n",
    "\n",
    "<h> $ 5\\times 5$ Summary</h>\n",
    "- Iteration: 500, Loss: 0.5387158393859863, Accuracy: 81.3699951171875%\n",
    "- Iteration: 1000, Loss: 0.5224775075912476, Accuracy: 85.11000061035156%\n",
    "- Iteration: 1500, Loss: 0.37437084317207336, Accuracy: 85.31999969482422%\n",
    "- Iteration: 2000, Loss: 0.3225984573364258, Accuracy: 87.02999877929688%\n",
    "- Iteration: 2500, Loss: 0.2803797423839569, Accuracy: 87.3699951171875%\n",
    "- Iteration: 3000, Loss: 0.23874984681606293, Accuracy: 87.61000061035156%\n",
    "\n",
    "<h> Conclusion: </h>\n",
    "- It seems not much difference in results but the outputs of layer1 are good/ok/understandable for $5 \\times 5$ kernel where as \n",
    "  for $3 \\times 3$ it is not fine.\n",
    "  \n",
    "<h> More:: </h>\n",
    "- Anything is perferable,no rules\n",
    "- With averge_pooling:($ 5 \\times 5$ kernel)\n",
    "    - Iteration: 500, Loss: 0.6225598454475403, Accuracy: 74.94999694824219%\n",
    "    - Iteration: 1000, Loss: 0.5429695248603821, Accuracy: 81.18999481201172%\n",
    "    - Iteration: 1500, Loss: 0.4180496633052826, Accuracy: 82.43000030517578%\n",
    "    - Iteration: 2000, Loss: 0.400076687335968, Accuracy: 84.00999450683594%\n",
    "    - Iteration: 2500, Loss: 0.34212633967399597, Accuracy: 85.55999755859375%\n",
    "    - Iteration: 3000, Loss: 0.320212185382843, Accuracy: 85.6199951171875%\n",
    "- With average_pooling($ 3 \\times 3 $ kernel)\n",
    "    - Iteration: 500, Loss: 0.6084163784980774, Accuracy: 79.08999633789062%\n",
    "    - Iteration: 1000, Loss: 0.5069544911384583, Accuracy: 83.19999694824219%\n",
    "    - Iteration: 1500, Loss: 0.38887909054756165, Accuracy: 83.47000122070312%\n",
    "    - Iteration: 2000, Loss: 0.3616446554660797, Accuracy: 85.45999908447266%\n",
    "    - Iteration: 2500, Loss: 0.318341463804245, Accuracy: 86.44999694824219%\n",
    "    - Iteration: 3000, Loss: 0.29311689734458923, Accuracy: 86.58999633789062%\n",
    "    \n",
    "- So finally first doing $3 \\times 3$ and average_pooling and the $5 \\times 5$ and then max_pooling.I feel like $3 \\times 3 $ followed by averge pooling is good then $3 \\times 3$ followed by by max_pooling similarly $5 \\times 5$ followed by max_pooling(only from my intution after seeing layer1 images)\n",
    "- Result with $3 \\times 3$ and average_pooling followed by $5 \\times 5$ and max_pooling.\n",
    "    - Iteration: 500, Loss: 0.5736953020095825, Accuracy: 78.4000015258789%\n",
    "    - Iteration: 1000, Loss: 0.46818745136260986, Accuracy: 84.63999938964844%\n",
    "    - Iteration: 1500, Loss: 0.35661470890045166, Accuracy: 84.37999725341797%\n",
    "    - Iteration: 2000, Loss: 0.26089784502983093, Accuracy: 86.77999877929688%\n",
    "    - Iteration: 2500, Loss: 0.2193337082862854, Accuracy: 87.93999481201172%\n",
    "    - Iteration: 3000, Loss: 0.21424227952957153, Accuracy: 87.70999908447266%\n",
    "- Reverse of above configuration\n",
    "    - Iteration: 500, Loss: 0.5781247615814209, Accuracy: 80.3699951171875%\n",
    "    - Iteration: 1000, Loss: 0.4492659866809845, Accuracy: 84.19999694824219%\n",
    "    - Iteration: 1500, Loss: 0.39429306983947754, Accuracy: 84.79000091552734%\n",
    "    - Iteration: 2000, Loss: 0.3357504904270172, Accuracy: 86.72000122070312%\n",
    "    - Iteration: 2500, Loss: 0.24308648705482483, Accuracy: 87.8499984741211%\n",
    "    - Iteration: 3000, Loss: 0.27105867862701416, Accuracy: 87.97000122070312%\n"
   ]
  },
  {
   "cell_type": "markdown",
   "metadata": {},
   "source": [
    "## Different Activation Functions:\n",
    "- Not satisfied with tanh,sigmoid activation relu seems better"
   ]
  },
  {
   "cell_type": "markdown",
   "metadata": {},
   "source": [
    "## Number of output Channels:\n",
    "\n",
    "- Need to keep in increasing pattern.\n",
    "- First level1 has 16 ouput channels and level2 has 32 channels\n",
    "    - Iteration: 500, Loss: 0.5527979135513306, Accuracy: 82.81999969482422%\n",
    "    - Iteration: 1000, Loss: 0.4356045424938202, Accuracy: 85.36000061035156%\n",
    "    - Iteration: 1500, Loss: 0.37093690037727356, Accuracy: 85.33999633789062%\n",
    "    - Iteration: 2000, Loss: 0.27641183137893677, Accuracy: 87.6199951171875%\n",
    "    - Iteration: 2500, Loss: 0.22711440920829773, Accuracy: 88.54999542236328%\n",
    "    - Iteration: 3000, Loss: 0.23455120623111725, Accuracy: 88.68000030517578%\n",
    "    \n",
    "- Even more???\n",
    " - First level1 has 25 ouput channels and level2 has 50 channels\n",
    "    - Iteration: 500, Loss: 0.5520749092102051, Accuracy: 82.79000091552734%\n",
    "    - Iteration: 1000, Loss: 0.4224318265914917, Accuracy: 86.13999938964844%\n",
    "    - Iteration: 1500, Loss: 0.3514845669269562, Accuracy: 85.81999969482422%\n",
    "    - Iteration: 2000, Loss: 0.286495566368103, Accuracy: 88.23999786376953%\n",
    "    - Iteration: 2500, Loss: 0.21493516862392426, Accuracy: 89.22000122070312%\n",
    "    - Iteration: 3000, Loss: 0.23402702808380127, Accuracy: 88.88999938964844%\n",
    " - First level1 has 32 ouput channels and level2 has 64 channels\n",
    "    - Iteration: 500, Loss: 0.5288337469100952, Accuracy: 83.61000061035156%\n",
    "    - Iteration: 1000, Loss: 0.38062533736228943, Accuracy: 86.57999420166016%\n",
    "    - Iteration: 1500, Loss: 0.3205176591873169, Accuracy: 86.1199951171875%\n",
    "    - Iteration: 2000, Loss: 0.23642241954803467, Accuracy: 88.82999420166016%\n",
    "    - Iteration: 2500, Loss: 0.20027194917201996, Accuracy: 89.18000030517578%\n",
    "    - Iteration: 3000, Loss: 0.23303134739398956, Accuracy: 88.70999908447266%\n",
    "- I feel like it is overfitting so there is not net increase in accuracy"
   ]
  },
  {
   "cell_type": "markdown",
   "metadata": {},
   "source": [
    "## Number of convolution layers\n",
    "\n",
    "- in previous it is 2\n",
    "- Now we check for 3"
   ]
  },
  {
   "cell_type": "code",
   "execution_count": null,
   "metadata": {},
   "outputs": [],
   "source": []
  }
 ],
 "metadata": {
  "kernelspec": {
   "display_name": "Python 3",
   "language": "python",
   "name": "python3"
  },
  "language_info": {
   "codemirror_mode": {
    "name": "ipython",
    "version": 3
   },
   "file_extension": ".py",
   "mimetype": "text/x-python",
   "name": "python",
   "nbconvert_exporter": "python",
   "pygments_lexer": "ipython3",
   "version": "3.7.9"
  }
 },
 "nbformat": 4,
 "nbformat_minor": 4
}
